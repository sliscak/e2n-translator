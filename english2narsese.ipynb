{
  "nbformat": 4,
  "nbformat_minor": 0,
  "metadata": {
    "colab": {
      "name": "english2narsese.ipynb",
      "provenance": [],
      "collapsed_sections": [],
      "authorship_tag": "ABX9TyNNNXDVqYYVxz6ZBpBBwVjD",
      "include_colab_link": true
    },
    "kernelspec": {
      "name": "python3",
      "display_name": "Python 3"
    },
    "widgets": {
      "application/vnd.jupyter.widget-state+json": {
        "6c3e263d6a8a434884f3390a261379db": {
          "model_module": "@jupyter-widgets/controls",
          "model_name": "HBoxModel",
          "state": {
            "_view_name": "HBoxView",
            "_dom_classes": [],
            "_model_name": "HBoxModel",
            "_view_module": "@jupyter-widgets/controls",
            "_model_module_version": "1.5.0",
            "_view_count": null,
            "_view_module_version": "1.5.0",
            "box_style": "",
            "layout": "IPY_MODEL_ed87ca28802e4a808ef5aa8dfa1b8fd1",
            "_model_module": "@jupyter-widgets/controls",
            "children": [
              "IPY_MODEL_1669b282bc304502b6162b25ca9bd2e3",
              "IPY_MODEL_cef1a19fefa0443c880a551023835df9"
            ]
          }
        },
        "ed87ca28802e4a808ef5aa8dfa1b8fd1": {
          "model_module": "@jupyter-widgets/base",
          "model_name": "LayoutModel",
          "state": {
            "_view_name": "LayoutView",
            "grid_template_rows": null,
            "right": null,
            "justify_content": null,
            "_view_module": "@jupyter-widgets/base",
            "overflow": null,
            "_model_module_version": "1.2.0",
            "_view_count": null,
            "flex_flow": null,
            "width": null,
            "min_width": null,
            "border": null,
            "align_items": null,
            "bottom": null,
            "_model_module": "@jupyter-widgets/base",
            "top": null,
            "grid_column": null,
            "overflow_y": null,
            "overflow_x": null,
            "grid_auto_flow": null,
            "grid_area": null,
            "grid_template_columns": null,
            "flex": null,
            "_model_name": "LayoutModel",
            "justify_items": null,
            "grid_row": null,
            "max_height": null,
            "align_content": null,
            "visibility": null,
            "align_self": null,
            "height": null,
            "min_height": null,
            "padding": null,
            "grid_auto_rows": null,
            "grid_gap": null,
            "max_width": null,
            "order": null,
            "_view_module_version": "1.2.0",
            "grid_template_areas": null,
            "object_position": null,
            "object_fit": null,
            "grid_auto_columns": null,
            "margin": null,
            "display": null,
            "left": null
          }
        },
        "1669b282bc304502b6162b25ca9bd2e3": {
          "model_module": "@jupyter-widgets/controls",
          "model_name": "FloatProgressModel",
          "state": {
            "_view_name": "ProgressView",
            "style": "IPY_MODEL_197ec0cff70e4308af77883a0f2dbde5",
            "_dom_classes": [],
            "description": "Downloading: 100%",
            "_model_name": "FloatProgressModel",
            "bar_style": "success",
            "max": 791656,
            "_view_module": "@jupyter-widgets/controls",
            "_model_module_version": "1.5.0",
            "value": 791656,
            "_view_count": null,
            "_view_module_version": "1.5.0",
            "orientation": "horizontal",
            "min": 0,
            "description_tooltip": null,
            "_model_module": "@jupyter-widgets/controls",
            "layout": "IPY_MODEL_5e23ccf197d749c2878effb75dc96b63"
          }
        },
        "cef1a19fefa0443c880a551023835df9": {
          "model_module": "@jupyter-widgets/controls",
          "model_name": "HTMLModel",
          "state": {
            "_view_name": "HTMLView",
            "style": "IPY_MODEL_10008a5089ad499d8a7e4a08790366e8",
            "_dom_classes": [],
            "description": "",
            "_model_name": "HTMLModel",
            "placeholder": "​",
            "_view_module": "@jupyter-widgets/controls",
            "_model_module_version": "1.5.0",
            "value": " 792k/792k [00:00&lt;00:00, 1.66MB/s]",
            "_view_count": null,
            "_view_module_version": "1.5.0",
            "description_tooltip": null,
            "_model_module": "@jupyter-widgets/controls",
            "layout": "IPY_MODEL_51697af6ed0e49b098bbd9554f2ce2cc"
          }
        },
        "197ec0cff70e4308af77883a0f2dbde5": {
          "model_module": "@jupyter-widgets/controls",
          "model_name": "ProgressStyleModel",
          "state": {
            "_view_name": "StyleView",
            "_model_name": "ProgressStyleModel",
            "description_width": "initial",
            "_view_module": "@jupyter-widgets/base",
            "_model_module_version": "1.5.0",
            "_view_count": null,
            "_view_module_version": "1.2.0",
            "bar_color": null,
            "_model_module": "@jupyter-widgets/controls"
          }
        },
        "5e23ccf197d749c2878effb75dc96b63": {
          "model_module": "@jupyter-widgets/base",
          "model_name": "LayoutModel",
          "state": {
            "_view_name": "LayoutView",
            "grid_template_rows": null,
            "right": null,
            "justify_content": null,
            "_view_module": "@jupyter-widgets/base",
            "overflow": null,
            "_model_module_version": "1.2.0",
            "_view_count": null,
            "flex_flow": null,
            "width": null,
            "min_width": null,
            "border": null,
            "align_items": null,
            "bottom": null,
            "_model_module": "@jupyter-widgets/base",
            "top": null,
            "grid_column": null,
            "overflow_y": null,
            "overflow_x": null,
            "grid_auto_flow": null,
            "grid_area": null,
            "grid_template_columns": null,
            "flex": null,
            "_model_name": "LayoutModel",
            "justify_items": null,
            "grid_row": null,
            "max_height": null,
            "align_content": null,
            "visibility": null,
            "align_self": null,
            "height": null,
            "min_height": null,
            "padding": null,
            "grid_auto_rows": null,
            "grid_gap": null,
            "max_width": null,
            "order": null,
            "_view_module_version": "1.2.0",
            "grid_template_areas": null,
            "object_position": null,
            "object_fit": null,
            "grid_auto_columns": null,
            "margin": null,
            "display": null,
            "left": null
          }
        },
        "10008a5089ad499d8a7e4a08790366e8": {
          "model_module": "@jupyter-widgets/controls",
          "model_name": "DescriptionStyleModel",
          "state": {
            "_view_name": "StyleView",
            "_model_name": "DescriptionStyleModel",
            "description_width": "",
            "_view_module": "@jupyter-widgets/base",
            "_model_module_version": "1.5.0",
            "_view_count": null,
            "_view_module_version": "1.2.0",
            "_model_module": "@jupyter-widgets/controls"
          }
        },
        "51697af6ed0e49b098bbd9554f2ce2cc": {
          "model_module": "@jupyter-widgets/base",
          "model_name": "LayoutModel",
          "state": {
            "_view_name": "LayoutView",
            "grid_template_rows": null,
            "right": null,
            "justify_content": null,
            "_view_module": "@jupyter-widgets/base",
            "overflow": null,
            "_model_module_version": "1.2.0",
            "_view_count": null,
            "flex_flow": null,
            "width": null,
            "min_width": null,
            "border": null,
            "align_items": null,
            "bottom": null,
            "_model_module": "@jupyter-widgets/base",
            "top": null,
            "grid_column": null,
            "overflow_y": null,
            "overflow_x": null,
            "grid_auto_flow": null,
            "grid_area": null,
            "grid_template_columns": null,
            "flex": null,
            "_model_name": "LayoutModel",
            "justify_items": null,
            "grid_row": null,
            "max_height": null,
            "align_content": null,
            "visibility": null,
            "align_self": null,
            "height": null,
            "min_height": null,
            "padding": null,
            "grid_auto_rows": null,
            "grid_gap": null,
            "max_width": null,
            "order": null,
            "_view_module_version": "1.2.0",
            "grid_template_areas": null,
            "object_position": null,
            "object_fit": null,
            "grid_auto_columns": null,
            "margin": null,
            "display": null,
            "left": null
          }
        },
        "650037248b8944d78a58a6d9ec22cd97": {
          "model_module": "@jupyter-widgets/controls",
          "model_name": "HBoxModel",
          "state": {
            "_view_name": "HBoxView",
            "_dom_classes": [],
            "_model_name": "HBoxModel",
            "_view_module": "@jupyter-widgets/controls",
            "_model_module_version": "1.5.0",
            "_view_count": null,
            "_view_module_version": "1.5.0",
            "box_style": "",
            "layout": "IPY_MODEL_3e4ce2f828b7400aa7ddbde3820bbe6f",
            "_model_module": "@jupyter-widgets/controls",
            "children": [
              "IPY_MODEL_3f51b8adc5c747a59fe5d773a4335f01",
              "IPY_MODEL_eff5378c29874cf98137de4d425f4243"
            ]
          }
        },
        "3e4ce2f828b7400aa7ddbde3820bbe6f": {
          "model_module": "@jupyter-widgets/base",
          "model_name": "LayoutModel",
          "state": {
            "_view_name": "LayoutView",
            "grid_template_rows": null,
            "right": null,
            "justify_content": null,
            "_view_module": "@jupyter-widgets/base",
            "overflow": null,
            "_model_module_version": "1.2.0",
            "_view_count": null,
            "flex_flow": "row wrap",
            "width": "100%",
            "min_width": null,
            "border": null,
            "align_items": null,
            "bottom": null,
            "_model_module": "@jupyter-widgets/base",
            "top": null,
            "grid_column": null,
            "overflow_y": null,
            "overflow_x": null,
            "grid_auto_flow": null,
            "grid_area": null,
            "grid_template_columns": null,
            "flex": null,
            "_model_name": "LayoutModel",
            "justify_items": null,
            "grid_row": null,
            "max_height": null,
            "align_content": null,
            "visibility": null,
            "align_self": null,
            "height": null,
            "min_height": null,
            "padding": null,
            "grid_auto_rows": null,
            "grid_gap": null,
            "max_width": null,
            "order": null,
            "_view_module_version": "1.2.0",
            "grid_template_areas": null,
            "object_position": null,
            "object_fit": null,
            "grid_auto_columns": null,
            "margin": null,
            "display": "inline-flex",
            "left": null
          }
        },
        "3f51b8adc5c747a59fe5d773a4335f01": {
          "model_module": "@jupyter-widgets/controls",
          "model_name": "FloatProgressModel",
          "state": {
            "_view_name": "ProgressView",
            "style": "IPY_MODEL_ead526f9b8d54e3ab3c107b4797b2b0b",
            "_dom_classes": [],
            "description": "Epoch 49: 100%",
            "_model_name": "FloatProgressModel",
            "bar_style": "success",
            "max": 31,
            "_view_module": "@jupyter-widgets/controls",
            "_model_module_version": "1.5.0",
            "value": 31,
            "_view_count": null,
            "_view_module_version": "1.5.0",
            "orientation": "horizontal",
            "min": 0,
            "description_tooltip": null,
            "_model_module": "@jupyter-widgets/controls",
            "layout": "IPY_MODEL_f10c9d5e626d463e95a2faf2dcf324a2"
          }
        },
        "eff5378c29874cf98137de4d425f4243": {
          "model_module": "@jupyter-widgets/controls",
          "model_name": "HTMLModel",
          "state": {
            "_view_name": "HTMLView",
            "style": "IPY_MODEL_f458a49611e640dd9891a73bd5d160be",
            "_dom_classes": [],
            "description": "",
            "_model_name": "HTMLModel",
            "placeholder": "​",
            "_view_module": "@jupyter-widgets/controls",
            "_model_module_version": "1.5.0",
            "value": " 31/31 [00:05&lt;00:00,  6.11it/s, loss=0.040, v_num=354]",
            "_view_count": null,
            "_view_module_version": "1.5.0",
            "description_tooltip": null,
            "_model_module": "@jupyter-widgets/controls",
            "layout": "IPY_MODEL_4f30e398ca104bde97f84e6a0acda504"
          }
        },
        "ead526f9b8d54e3ab3c107b4797b2b0b": {
          "model_module": "@jupyter-widgets/controls",
          "model_name": "ProgressStyleModel",
          "state": {
            "_view_name": "StyleView",
            "_model_name": "ProgressStyleModel",
            "description_width": "initial",
            "_view_module": "@jupyter-widgets/base",
            "_model_module_version": "1.5.0",
            "_view_count": null,
            "_view_module_version": "1.2.0",
            "bar_color": null,
            "_model_module": "@jupyter-widgets/controls"
          }
        },
        "f10c9d5e626d463e95a2faf2dcf324a2": {
          "model_module": "@jupyter-widgets/base",
          "model_name": "LayoutModel",
          "state": {
            "_view_name": "LayoutView",
            "grid_template_rows": null,
            "right": null,
            "justify_content": null,
            "_view_module": "@jupyter-widgets/base",
            "overflow": null,
            "_model_module_version": "1.2.0",
            "_view_count": null,
            "flex_flow": null,
            "width": null,
            "min_width": null,
            "border": null,
            "align_items": null,
            "bottom": null,
            "_model_module": "@jupyter-widgets/base",
            "top": null,
            "grid_column": null,
            "overflow_y": null,
            "overflow_x": null,
            "grid_auto_flow": null,
            "grid_area": null,
            "grid_template_columns": null,
            "flex": "2",
            "_model_name": "LayoutModel",
            "justify_items": null,
            "grid_row": null,
            "max_height": null,
            "align_content": null,
            "visibility": null,
            "align_self": null,
            "height": null,
            "min_height": null,
            "padding": null,
            "grid_auto_rows": null,
            "grid_gap": null,
            "max_width": null,
            "order": null,
            "_view_module_version": "1.2.0",
            "grid_template_areas": null,
            "object_position": null,
            "object_fit": null,
            "grid_auto_columns": null,
            "margin": null,
            "display": null,
            "left": null
          }
        },
        "f458a49611e640dd9891a73bd5d160be": {
          "model_module": "@jupyter-widgets/controls",
          "model_name": "DescriptionStyleModel",
          "state": {
            "_view_name": "StyleView",
            "_model_name": "DescriptionStyleModel",
            "description_width": "",
            "_view_module": "@jupyter-widgets/base",
            "_model_module_version": "1.5.0",
            "_view_count": null,
            "_view_module_version": "1.2.0",
            "_model_module": "@jupyter-widgets/controls"
          }
        },
        "4f30e398ca104bde97f84e6a0acda504": {
          "model_module": "@jupyter-widgets/base",
          "model_name": "LayoutModel",
          "state": {
            "_view_name": "LayoutView",
            "grid_template_rows": null,
            "right": null,
            "justify_content": null,
            "_view_module": "@jupyter-widgets/base",
            "overflow": null,
            "_model_module_version": "1.2.0",
            "_view_count": null,
            "flex_flow": null,
            "width": null,
            "min_width": null,
            "border": null,
            "align_items": null,
            "bottom": null,
            "_model_module": "@jupyter-widgets/base",
            "top": null,
            "grid_column": null,
            "overflow_y": null,
            "overflow_x": null,
            "grid_auto_flow": null,
            "grid_area": null,
            "grid_template_columns": null,
            "flex": null,
            "_model_name": "LayoutModel",
            "justify_items": null,
            "grid_row": null,
            "max_height": null,
            "align_content": null,
            "visibility": null,
            "align_self": null,
            "height": null,
            "min_height": null,
            "padding": null,
            "grid_auto_rows": null,
            "grid_gap": null,
            "max_width": null,
            "order": null,
            "_view_module_version": "1.2.0",
            "grid_template_areas": null,
            "object_position": null,
            "object_fit": null,
            "grid_auto_columns": null,
            "margin": null,
            "display": null,
            "left": null
          }
        }
      }
    },
    "accelerator": "GPU"
  },
  "cells": [
    {
      "cell_type": "markdown",
      "metadata": {
        "id": "view-in-github",
        "colab_type": "text"
      },
      "source": [
        "<a href=\"https://colab.research.google.com/github/sliscak/e2n-translator/blob/main/english2narsese.ipynb\" target=\"_parent\"><img src=\"https://colab.research.google.com/assets/colab-badge.svg\" alt=\"Open In Colab\"/></a>"
      ]
    },
    {
      "cell_type": "markdown",
      "metadata": {
        "id": "Knmw2llO-PLA"
      },
      "source": [
        "INSTALL PREREQ"
      ]
    },
    {
      "cell_type": "code",
      "metadata": {
        "id": "fvjzc_RI-N7N",
        "outputId": "ae1fb4ef-d989-41cc-a3c1-04d9924a9a22",
        "colab": {
          "base_uri": "https://localhost:8080/",
          "height": 110
        }
      },
      "source": [
        "%%capture\n",
        "from google.colab import drive\n",
        "drive.mount('/content/drive')\n",
        "#!cp \"/content/drive/My Drive/research/datasets/dataset.jsonl\" \"/content\"\n",
        "!git clone https://github.com/huggingface/transformers.git\n",
        "!pip install ./transformers\n",
        "!pip install -U nlp\n",
        "!pip install pytorch-lightning\n",
        "!pip install tqdm\n",
        "\n",
        "!rm e2n-translator -rf\n",
        "!git clone https://github.com/sliscak/e2n-translator.git\n",
        "!python e2n-translator/dataset/build.py"
      ],
      "execution_count": 1,
      "outputs": [
        {
          "output_type": "stream",
          "text": [
            "Go to this URL in a browser: https://accounts.google.com/o/oauth2/auth?client_id=947318989803-6bn6qk8qdgf4n4g3pfee6491hc0brc4i.apps.googleusercontent.com&redirect_uri=urn%3aietf%3awg%3aoauth%3a2.0%3aoob&scope=email%20https%3a%2f%2fwww.googleapis.com%2fauth%2fdocs.test%20https%3a%2f%2fwww.googleapis.com%2fauth%2fdrive%20https%3a%2f%2fwww.googleapis.com%2fauth%2fdrive.photos.readonly%20https%3a%2f%2fwww.googleapis.com%2fauth%2fpeopleapi.readonly&response_type=code\n",
            "\n",
            "Enter your authorization code:\n",
            "4/5QHw3EvXYtlbRINlddc0SJpaLluqX80irYisAkuSH7PxXWSkuCFgRro\n"
          ],
          "name": "stdout"
        }
      ]
    },
    {
      "cell_type": "markdown",
      "metadata": {
        "id": "SOhPFCN3-XNu"
      },
      "source": [
        "IMPORT PACKAGES"
      ]
    },
    {
      "cell_type": "code",
      "metadata": {
        "id": "Zy_Gz53V-Wre"
      },
      "source": [
        "from transformers import T5Tokenizer, T5Model, T5ForConditionalGeneration, Trainer, TrainingArguments, T5Config, AdamW #T5WithLMHeadModel\n",
        "import torch\n",
        "from torch.utils.data import Dataset, DataLoader\n",
        "import json\n",
        "import nlp\n",
        "from pytorch_lightning.core.lightning import LightningModule\n",
        "import pytorch_lightning as pl\n",
        "from os import path\n",
        "from tqdm import tqdm"
      ],
      "execution_count": 2,
      "outputs": []
    },
    {
      "cell_type": "code",
      "metadata": {
        "id": "w9gHxcTSFioc",
        "outputId": "d480e044-8801-4c00-b1c0-0db93aa16932",
        "colab": {
          "base_uri": "https://localhost:8080/",
          "height": 85,
          "referenced_widgets": [
            "6c3e263d6a8a434884f3390a261379db",
            "ed87ca28802e4a808ef5aa8dfa1b8fd1",
            "1669b282bc304502b6162b25ca9bd2e3",
            "cef1a19fefa0443c880a551023835df9",
            "197ec0cff70e4308af77883a0f2dbde5",
            "5e23ccf197d749c2878effb75dc96b63",
            "10008a5089ad499d8a7e4a08790366e8",
            "51697af6ed0e49b098bbd9554f2ce2cc"
          ]
        }
      },
      "source": [
        "tokenizer = T5Tokenizer.from_pretrained('t5-base')\n",
        "PATH = \"/content/drive/My Drive/research/models/t5-py\"\n",
        "tokenizer.add_tokens('<')\n",
        "# model = T5ForConditionalGeneration.from_pretrained('t5-base')"
      ],
      "execution_count": 3,
      "outputs": [
        {
          "output_type": "display_data",
          "data": {
            "application/vnd.jupyter.widget-view+json": {
              "model_id": "6c3e263d6a8a434884f3390a261379db",
              "version_minor": 0,
              "version_major": 2
            },
            "text/plain": [
              "HBox(children=(FloatProgress(value=0.0, description='Downloading', max=791656.0, style=ProgressStyle(descripti…"
            ]
          },
          "metadata": {
            "tags": []
          }
        },
        {
          "output_type": "stream",
          "text": [
            "\n"
          ],
          "name": "stdout"
        },
        {
          "output_type": "execute_result",
          "data": {
            "text/plain": [
              "1"
            ]
          },
          "metadata": {
            "tags": []
          },
          "execution_count": 3
        }
      ]
    },
    {
      "cell_type": "code",
      "metadata": {
        "id": "MPL_4FWPqWzq"
      },
      "source": [
        "# print(tokenizer)\n",
        "# from pprint import pprint\n",
        "# pprint(dir(tokenizer))\n",
        "# print(tokenizer.add_tokens()\n",
        "# tokenizer.add_tokens('<')"
      ],
      "execution_count": 4,
      "outputs": []
    },
    {
      "cell_type": "code",
      "metadata": {
        "id": "emPSJruHvVsz"
      },
      "source": [
        "# print(tokenizer.special_tokens_map)\n",
        "# print(tokenizer.post_processor)"
      ],
      "execution_count": 5,
      "outputs": []
    },
    {
      "cell_type": "code",
      "metadata": {
        "id": "JE7WPMD9_0ze",
        "outputId": "55a56c3e-bb36-4898-ff41-386e24c71055",
        "colab": {
          "base_uri": "https://localhost:8080/",
          "height": 126
        }
      },
      "source": [
        " class PythonDataset(Dataset):\n",
        "    \"\"\"Python dataset.\"\"\"\n",
        "    \"\"\"Either preprocess or process data on the fly\"\"\"\n",
        "\n",
        "    def __init__(self, file_path=\"/content/dataset.txt\"):\n",
        "      self.data = []\n",
        "      with open(file_path, 'r') as fd:\n",
        "        pair = []\n",
        "        for line in tqdm(fd.readlines(), desc='Dataset Loading'):\n",
        "          if len(line) > 3:\n",
        "              pair.append(line)\n",
        "              if len(pair) >= 2:\n",
        "                self.data.append(pair)\n",
        "                pair = [] \n",
        "        # else:\n",
        "        #   for line in tqdm(fd.readlines(), desc='Dataset Loading'):\n",
        "        #     # TODO: remove this part\n",
        "        #     if len(line) > 3:\n",
        "        #       self.data.append(line)\n",
        "\n",
        "    def process(self, pair):\n",
        "        with torch.no_grad():\n",
        "          text, narsese = pair\n",
        "          # narsese = narsese.replace('<', '(')\n",
        "          # narsese = narsese.replace('>', ')')\n",
        "          pattern = f'translate TEXT to NARSESE: \"{text}\"'\n",
        "\n",
        "          input_ids = tokenizer.encode(pattern, padding=True, truncation=True, return_tensors='pt')\n",
        "          labels = tokenizer.encode(narsese, padding=True, truncation=True, return_tensors='pt')\n",
        "          sample = {\n",
        "              \"input_ids\": input_ids,\n",
        "              \"labels\": labels,\n",
        "          }\n",
        "          return sample\n",
        "\n",
        "    def __len__(self):\n",
        "        return len(self.data)\n",
        "\n",
        "    def __getitem__(self, idx):\n",
        "        if torch.is_tensor(idx):\n",
        "            idx = idx.tolist()\n",
        "        # print(self.data[idx])\n",
        "        # processing on the fly\n",
        "        return self.process(self.data[idx])\n",
        "\n",
        "dataset = PythonDataset()\n",
        "dataset[0]"
      ],
      "execution_count": 6,
      "outputs": [
        {
          "output_type": "stream",
          "text": [
            "Dataset Loading: 100%|██████████| 62/62 [00:00<00:00, 19852.42it/s]\n"
          ],
          "name": "stderr"
        },
        {
          "output_type": "execute_result",
          "data": {
            "text/plain": [
              "{'input_ids': tensor([[13959,     3,  3463,     4,   382,    12,   445, 25210,  3205,   427,\n",
              "             10,    96,   667,   210,    40,    19,     3,     9,   686,    13,\n",
              "           2586,     5,    96,     1]]),\n",
              " 'labels': tensor([[32100,     3,  2381,    40,     3,    18, 13114,  2586,  3155,     5,\n",
              "              1]])}"
            ]
          },
          "metadata": {
            "tags": []
          },
          "execution_count": 6
        }
      ]
    },
    {
      "cell_type": "code",
      "metadata": {
        "id": "2vDJFSLGCtIl"
      },
      "source": [
        "class Pavian(LightningModule):\n",
        "  def __init__(self): # reset=False\n",
        "    super().__init__()\n",
        "    self.model = T5ForConditionalGeneration.from_pretrained('t5-base')\n",
        "    self.model.train()\n",
        "    # self.save_hyperparameters()\n",
        "\n",
        "  def forward(self, kwargs):\n",
        "    return self.model(**kwargs)\n",
        "\n",
        "  def configure_optimizers(self):\n",
        "        optimizer = AdamW(model.parameters(), lr=1e-4)\n",
        "        return optimizer\n",
        "\n",
        "  def training_step(self, batch, batch_idx):\n",
        "        for key in batch.keys():\n",
        "          batch[key] = batch[key][0]\n",
        "        outputs = self(batch)\n",
        "        loss = outputs[0]\n",
        "        tensorboard_logs = {'train_loss': loss}\n",
        "        return {'loss': loss, 'log': tensorboard_logs}\n",
        "\n",
        "\n",
        "  # def validation_step(self, batch, batch_idx):\n",
        "  #       x, y = batch\n",
        "  #       y_hat = self(x)\n",
        "  #       val_loss = F.cross_entropy(y_hat, y)\n",
        "  #       return val_loss\n",
        "model = Pavian()"
      ],
      "execution_count": 15,
      "outputs": []
    },
    {
      "cell_type": "code",
      "metadata": {
        "id": "d4_PnzUmPHXD",
        "outputId": "30490371-ead9-49cc-dad3-548c94fda953",
        "colab": {
          "base_uri": "https://localhost:8080/",
          "height": 378,
          "referenced_widgets": [
            "650037248b8944d78a58a6d9ec22cd97",
            "3e4ce2f828b7400aa7ddbde3820bbe6f",
            "3f51b8adc5c747a59fe5d773a4335f01",
            "eff5378c29874cf98137de4d425f4243",
            "ead526f9b8d54e3ab3c107b4797b2b0b",
            "f10c9d5e626d463e95a2faf2dcf324a2",
            "f458a49611e640dd9891a73bd5d160be",
            "4f30e398ca104bde97f84e6a0acda504"
          ]
        }
      },
      "source": [
        "config = {\n",
        "    'gpus': 1, # uncomment to use GPU\n",
        "    'default_root_dir': '/content/drive/My Drive/research/checkpoints',\n",
        "    'checkpoint_callback': False,\n",
        "    'max_epochs': 50,\n",
        "    # 'precision':16,\n",
        "}\n",
        "\n",
        "\n",
        "\n",
        "train_loader = DataLoader(PythonDataset(), batch_size=1, shuffle=True)\n",
        "\n",
        "trainer = pl.Trainer(**config)\n",
        "trainer.fit(model, train_loader)"
      ],
      "execution_count": 16,
      "outputs": [
        {
          "output_type": "stream",
          "text": [
            "Dataset Loading: 100%|██████████| 62/62 [00:00<00:00, 66508.15it/s]\n",
            "GPU available: True, used: True\n",
            "TPU available: False, using: 0 TPU cores\n",
            "LOCAL_RANK: 0 - CUDA_VISIBLE_DEVICES: [0]\n",
            "\n",
            "  | Name  | Type                       | Params\n",
            "-----------------------------------------------------\n",
            "0 | model | T5ForConditionalGeneration | 222 M \n"
          ],
          "name": "stderr"
        },
        {
          "output_type": "display_data",
          "data": {
            "application/vnd.jupyter.widget-view+json": {
              "model_id": "650037248b8944d78a58a6d9ec22cd97",
              "version_minor": 0,
              "version_major": 2
            },
            "text/plain": [
              "HBox(children=(FloatProgress(value=1.0, bar_style='info', description='Training', layout=Layout(flex='2'), max…"
            ]
          },
          "metadata": {
            "tags": []
          }
        },
        {
          "output_type": "stream",
          "text": [
            "/usr/local/lib/python3.6/dist-packages/pytorch_lightning/utilities/distributed.py:45: UserWarning: The {log:dict keyword} was deprecated in 0.9.1 and will be removed in 1.0.0\n",
            "Please use self.log(...) inside the lightningModule instead.\n",
            "\n",
            "# log on a step or aggregate epoch metric to the logger and/or progress bar\n",
            "# (inside LightningModule)\n",
            "self.log('train_loss', loss, on_step=True, on_epoch=True, prog_bar=True)\n",
            "  warnings.warn(*args, **kwargs)\n"
          ],
          "name": "stderr"
        },
        {
          "output_type": "stream",
          "text": [
            "\n"
          ],
          "name": "stdout"
        },
        {
          "output_type": "execute_result",
          "data": {
            "text/plain": [
              "1"
            ]
          },
          "metadata": {
            "tags": []
          },
          "execution_count": 16
        }
      ]
    },
    {
      "cell_type": "code",
      "metadata": {
        "id": "2MqRmf3WHFbu"
      },
      "source": [
        "# PATH = \"/content/drive/My Drive/research/models/t5-py\"\n",
        "# torch.save(model.state_dict(), PATH)"
      ],
      "execution_count": 17,
      "outputs": []
    },
    {
      "cell_type": "code",
      "metadata": {
        "id": "G3WvE3iZgG2v",
        "outputId": "7f03f9cc-7af2-429c-9cc2-8563940da8b2",
        "colab": {
          "base_uri": "https://localhost:8080/",
          "height": 144
        }
      },
      "source": [
        "with torch.no_grad():\n",
        "    narsese = '<goat --> animal>.'\n",
        "    pattern = f'translate TEXT to NARSESE: \"Goat is a type of animal.\"'\n",
        "    input_ids = tokenizer.encode(pattern, return_tensors='pt')\n",
        "    outputs = model.model.generate(input_ids)\n",
        "    dec = tokenizer.decode(outputs[0])\n",
        "    print(f'Input:\\n\\t{pattern}\\nOutput:\\n\\t{dec}\\n')\n",
        "    print(f'Ground Truth:\\n\\t{narsese}')\n"
      ],
      "execution_count": 22,
      "outputs": [
        {
          "output_type": "stream",
          "text": [
            "Input:\n",
            "\ttranslate TEXT to NARSESE: \"Goat is a type of animal.\"\n",
            "Output:\n",
            "\t < goat --> animal>.\n",
            "\n",
            "Ground Truth:\n",
            "\t<cat --> animal>.\n"
          ],
          "name": "stdout"
        }
      ]
    },
    {
      "cell_type": "code",
      "metadata": {
        "id": "QXrQNgnPMqP_"
      },
      "source": [
        ""
      ],
      "execution_count": 10,
      "outputs": []
    }
  ]
}