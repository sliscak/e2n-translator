{
  "nbformat": 4,
  "nbformat_minor": 0,
  "metadata": {
    "colab": {
      "name": "english2narsese.ipynb",
      "provenance": [],
      "collapsed_sections": [],
      "authorship_tag": "ABX9TyMqp9kRA96xzPT+WjrIhGrp",
      "include_colab_link": true
    },
    "kernelspec": {
      "name": "python3",
      "display_name": "Python 3"
    },
    "widgets": {
      "application/vnd.jupyter.widget-state+json": {
        "26959f400de14f32a59a8676e3de030c": {
          "model_module": "@jupyter-widgets/controls",
          "model_name": "HBoxModel",
          "state": {
            "_view_name": "HBoxView",
            "_dom_classes": [],
            "_model_name": "HBoxModel",
            "_view_module": "@jupyter-widgets/controls",
            "_model_module_version": "1.5.0",
            "_view_count": null,
            "_view_module_version": "1.5.0",
            "box_style": "",
            "layout": "IPY_MODEL_62437ac0f8af452eb5f058f2d7c6d6da",
            "_model_module": "@jupyter-widgets/controls",
            "children": [
              "IPY_MODEL_9a343fd4a4db4cbe8d0fbdc38d207c7f",
              "IPY_MODEL_edb6c6e8f29f439d866252037744bbf9"
            ]
          }
        },
        "62437ac0f8af452eb5f058f2d7c6d6da": {
          "model_module": "@jupyter-widgets/base",
          "model_name": "LayoutModel",
          "state": {
            "_view_name": "LayoutView",
            "grid_template_rows": null,
            "right": null,
            "justify_content": null,
            "_view_module": "@jupyter-widgets/base",
            "overflow": null,
            "_model_module_version": "1.2.0",
            "_view_count": null,
            "flex_flow": null,
            "width": null,
            "min_width": null,
            "border": null,
            "align_items": null,
            "bottom": null,
            "_model_module": "@jupyter-widgets/base",
            "top": null,
            "grid_column": null,
            "overflow_y": null,
            "overflow_x": null,
            "grid_auto_flow": null,
            "grid_area": null,
            "grid_template_columns": null,
            "flex": null,
            "_model_name": "LayoutModel",
            "justify_items": null,
            "grid_row": null,
            "max_height": null,
            "align_content": null,
            "visibility": null,
            "align_self": null,
            "height": null,
            "min_height": null,
            "padding": null,
            "grid_auto_rows": null,
            "grid_gap": null,
            "max_width": null,
            "order": null,
            "_view_module_version": "1.2.0",
            "grid_template_areas": null,
            "object_position": null,
            "object_fit": null,
            "grid_auto_columns": null,
            "margin": null,
            "display": null,
            "left": null
          }
        },
        "9a343fd4a4db4cbe8d0fbdc38d207c7f": {
          "model_module": "@jupyter-widgets/controls",
          "model_name": "FloatProgressModel",
          "state": {
            "_view_name": "ProgressView",
            "style": "IPY_MODEL_e39888f8d811492495fab77f4410c0d2",
            "_dom_classes": [],
            "description": "Downloading: 100%",
            "_model_name": "FloatProgressModel",
            "bar_style": "success",
            "max": 791656,
            "_view_module": "@jupyter-widgets/controls",
            "_model_module_version": "1.5.0",
            "value": 791656,
            "_view_count": null,
            "_view_module_version": "1.5.0",
            "orientation": "horizontal",
            "min": 0,
            "description_tooltip": null,
            "_model_module": "@jupyter-widgets/controls",
            "layout": "IPY_MODEL_97c5981d37484bdf9472813b5b29ff45"
          }
        },
        "edb6c6e8f29f439d866252037744bbf9": {
          "model_module": "@jupyter-widgets/controls",
          "model_name": "HTMLModel",
          "state": {
            "_view_name": "HTMLView",
            "style": "IPY_MODEL_2947ec9ae4944a409412f9206af7804a",
            "_dom_classes": [],
            "description": "",
            "_model_name": "HTMLModel",
            "placeholder": "​",
            "_view_module": "@jupyter-widgets/controls",
            "_model_module_version": "1.5.0",
            "value": " 792k/792k [00:04&lt;00:00, 181kB/s]",
            "_view_count": null,
            "_view_module_version": "1.5.0",
            "description_tooltip": null,
            "_model_module": "@jupyter-widgets/controls",
            "layout": "IPY_MODEL_c31387402989411f8f414e5e7c966fd9"
          }
        },
        "e39888f8d811492495fab77f4410c0d2": {
          "model_module": "@jupyter-widgets/controls",
          "model_name": "ProgressStyleModel",
          "state": {
            "_view_name": "StyleView",
            "_model_name": "ProgressStyleModel",
            "description_width": "initial",
            "_view_module": "@jupyter-widgets/base",
            "_model_module_version": "1.5.0",
            "_view_count": null,
            "_view_module_version": "1.2.0",
            "bar_color": null,
            "_model_module": "@jupyter-widgets/controls"
          }
        },
        "97c5981d37484bdf9472813b5b29ff45": {
          "model_module": "@jupyter-widgets/base",
          "model_name": "LayoutModel",
          "state": {
            "_view_name": "LayoutView",
            "grid_template_rows": null,
            "right": null,
            "justify_content": null,
            "_view_module": "@jupyter-widgets/base",
            "overflow": null,
            "_model_module_version": "1.2.0",
            "_view_count": null,
            "flex_flow": null,
            "width": null,
            "min_width": null,
            "border": null,
            "align_items": null,
            "bottom": null,
            "_model_module": "@jupyter-widgets/base",
            "top": null,
            "grid_column": null,
            "overflow_y": null,
            "overflow_x": null,
            "grid_auto_flow": null,
            "grid_area": null,
            "grid_template_columns": null,
            "flex": null,
            "_model_name": "LayoutModel",
            "justify_items": null,
            "grid_row": null,
            "max_height": null,
            "align_content": null,
            "visibility": null,
            "align_self": null,
            "height": null,
            "min_height": null,
            "padding": null,
            "grid_auto_rows": null,
            "grid_gap": null,
            "max_width": null,
            "order": null,
            "_view_module_version": "1.2.0",
            "grid_template_areas": null,
            "object_position": null,
            "object_fit": null,
            "grid_auto_columns": null,
            "margin": null,
            "display": null,
            "left": null
          }
        },
        "2947ec9ae4944a409412f9206af7804a": {
          "model_module": "@jupyter-widgets/controls",
          "model_name": "DescriptionStyleModel",
          "state": {
            "_view_name": "StyleView",
            "_model_name": "DescriptionStyleModel",
            "description_width": "",
            "_view_module": "@jupyter-widgets/base",
            "_model_module_version": "1.5.0",
            "_view_count": null,
            "_view_module_version": "1.2.0",
            "_model_module": "@jupyter-widgets/controls"
          }
        },
        "c31387402989411f8f414e5e7c966fd9": {
          "model_module": "@jupyter-widgets/base",
          "model_name": "LayoutModel",
          "state": {
            "_view_name": "LayoutView",
            "grid_template_rows": null,
            "right": null,
            "justify_content": null,
            "_view_module": "@jupyter-widgets/base",
            "overflow": null,
            "_model_module_version": "1.2.0",
            "_view_count": null,
            "flex_flow": null,
            "width": null,
            "min_width": null,
            "border": null,
            "align_items": null,
            "bottom": null,
            "_model_module": "@jupyter-widgets/base",
            "top": null,
            "grid_column": null,
            "overflow_y": null,
            "overflow_x": null,
            "grid_auto_flow": null,
            "grid_area": null,
            "grid_template_columns": null,
            "flex": null,
            "_model_name": "LayoutModel",
            "justify_items": null,
            "grid_row": null,
            "max_height": null,
            "align_content": null,
            "visibility": null,
            "align_self": null,
            "height": null,
            "min_height": null,
            "padding": null,
            "grid_auto_rows": null,
            "grid_gap": null,
            "max_width": null,
            "order": null,
            "_view_module_version": "1.2.0",
            "grid_template_areas": null,
            "object_position": null,
            "object_fit": null,
            "grid_auto_columns": null,
            "margin": null,
            "display": null,
            "left": null
          }
        },
        "558f0b41051144c3bf5058e79da45a59": {
          "model_module": "@jupyter-widgets/controls",
          "model_name": "HBoxModel",
          "state": {
            "_view_name": "HBoxView",
            "_dom_classes": [],
            "_model_name": "HBoxModel",
            "_view_module": "@jupyter-widgets/controls",
            "_model_module_version": "1.5.0",
            "_view_count": null,
            "_view_module_version": "1.5.0",
            "box_style": "",
            "layout": "IPY_MODEL_8b04d22b9faf4ac09b1c9d06fbd79fc7",
            "_model_module": "@jupyter-widgets/controls",
            "children": [
              "IPY_MODEL_bfa8f5716f5a44cc8dbf2b56822bab3a",
              "IPY_MODEL_23f544583b8943abae5aa2163dd1e1bf"
            ]
          }
        },
        "8b04d22b9faf4ac09b1c9d06fbd79fc7": {
          "model_module": "@jupyter-widgets/base",
          "model_name": "LayoutModel",
          "state": {
            "_view_name": "LayoutView",
            "grid_template_rows": null,
            "right": null,
            "justify_content": null,
            "_view_module": "@jupyter-widgets/base",
            "overflow": null,
            "_model_module_version": "1.2.0",
            "_view_count": null,
            "flex_flow": "row wrap",
            "width": "100%",
            "min_width": null,
            "border": null,
            "align_items": null,
            "bottom": null,
            "_model_module": "@jupyter-widgets/base",
            "top": null,
            "grid_column": null,
            "overflow_y": null,
            "overflow_x": null,
            "grid_auto_flow": null,
            "grid_area": null,
            "grid_template_columns": null,
            "flex": null,
            "_model_name": "LayoutModel",
            "justify_items": null,
            "grid_row": null,
            "max_height": null,
            "align_content": null,
            "visibility": null,
            "align_self": null,
            "height": null,
            "min_height": null,
            "padding": null,
            "grid_auto_rows": null,
            "grid_gap": null,
            "max_width": null,
            "order": null,
            "_view_module_version": "1.2.0",
            "grid_template_areas": null,
            "object_position": null,
            "object_fit": null,
            "grid_auto_columns": null,
            "margin": null,
            "display": "inline-flex",
            "left": null
          }
        },
        "bfa8f5716f5a44cc8dbf2b56822bab3a": {
          "model_module": "@jupyter-widgets/controls",
          "model_name": "FloatProgressModel",
          "state": {
            "_view_name": "ProgressView",
            "style": "IPY_MODEL_551c1922765942a2b5701e3e874b5256",
            "_dom_classes": [],
            "description": "Epoch 19: 100%",
            "_model_name": "FloatProgressModel",
            "bar_style": "success",
            "max": 62,
            "_view_module": "@jupyter-widgets/controls",
            "_model_module_version": "1.5.0",
            "value": 62,
            "_view_count": null,
            "_view_module_version": "1.5.0",
            "orientation": "horizontal",
            "min": 0,
            "description_tooltip": null,
            "_model_module": "@jupyter-widgets/controls",
            "layout": "IPY_MODEL_00d03d641e644619ac8cd556c58ee29b"
          }
        },
        "23f544583b8943abae5aa2163dd1e1bf": {
          "model_module": "@jupyter-widgets/controls",
          "model_name": "HTMLModel",
          "state": {
            "_view_name": "HTMLView",
            "style": "IPY_MODEL_de1de06405e94d268e98983d4c23c203",
            "_dom_classes": [],
            "description": "",
            "_model_name": "HTMLModel",
            "placeholder": "​",
            "_view_module": "@jupyter-widgets/controls",
            "_model_module_version": "1.5.0",
            "value": " 62/62 [00:09&lt;00:00,  6.55it/s, loss=0.053, v_num=358]",
            "_view_count": null,
            "_view_module_version": "1.5.0",
            "description_tooltip": null,
            "_model_module": "@jupyter-widgets/controls",
            "layout": "IPY_MODEL_b2f79b8ea2174045ac5c57ff319a2786"
          }
        },
        "551c1922765942a2b5701e3e874b5256": {
          "model_module": "@jupyter-widgets/controls",
          "model_name": "ProgressStyleModel",
          "state": {
            "_view_name": "StyleView",
            "_model_name": "ProgressStyleModel",
            "description_width": "initial",
            "_view_module": "@jupyter-widgets/base",
            "_model_module_version": "1.5.0",
            "_view_count": null,
            "_view_module_version": "1.2.0",
            "bar_color": null,
            "_model_module": "@jupyter-widgets/controls"
          }
        },
        "00d03d641e644619ac8cd556c58ee29b": {
          "model_module": "@jupyter-widgets/base",
          "model_name": "LayoutModel",
          "state": {
            "_view_name": "LayoutView",
            "grid_template_rows": null,
            "right": null,
            "justify_content": null,
            "_view_module": "@jupyter-widgets/base",
            "overflow": null,
            "_model_module_version": "1.2.0",
            "_view_count": null,
            "flex_flow": null,
            "width": null,
            "min_width": null,
            "border": null,
            "align_items": null,
            "bottom": null,
            "_model_module": "@jupyter-widgets/base",
            "top": null,
            "grid_column": null,
            "overflow_y": null,
            "overflow_x": null,
            "grid_auto_flow": null,
            "grid_area": null,
            "grid_template_columns": null,
            "flex": "2",
            "_model_name": "LayoutModel",
            "justify_items": null,
            "grid_row": null,
            "max_height": null,
            "align_content": null,
            "visibility": null,
            "align_self": null,
            "height": null,
            "min_height": null,
            "padding": null,
            "grid_auto_rows": null,
            "grid_gap": null,
            "max_width": null,
            "order": null,
            "_view_module_version": "1.2.0",
            "grid_template_areas": null,
            "object_position": null,
            "object_fit": null,
            "grid_auto_columns": null,
            "margin": null,
            "display": null,
            "left": null
          }
        },
        "de1de06405e94d268e98983d4c23c203": {
          "model_module": "@jupyter-widgets/controls",
          "model_name": "DescriptionStyleModel",
          "state": {
            "_view_name": "StyleView",
            "_model_name": "DescriptionStyleModel",
            "description_width": "",
            "_view_module": "@jupyter-widgets/base",
            "_model_module_version": "1.5.0",
            "_view_count": null,
            "_view_module_version": "1.2.0",
            "_model_module": "@jupyter-widgets/controls"
          }
        },
        "b2f79b8ea2174045ac5c57ff319a2786": {
          "model_module": "@jupyter-widgets/base",
          "model_name": "LayoutModel",
          "state": {
            "_view_name": "LayoutView",
            "grid_template_rows": null,
            "right": null,
            "justify_content": null,
            "_view_module": "@jupyter-widgets/base",
            "overflow": null,
            "_model_module_version": "1.2.0",
            "_view_count": null,
            "flex_flow": null,
            "width": null,
            "min_width": null,
            "border": null,
            "align_items": null,
            "bottom": null,
            "_model_module": "@jupyter-widgets/base",
            "top": null,
            "grid_column": null,
            "overflow_y": null,
            "overflow_x": null,
            "grid_auto_flow": null,
            "grid_area": null,
            "grid_template_columns": null,
            "flex": null,
            "_model_name": "LayoutModel",
            "justify_items": null,
            "grid_row": null,
            "max_height": null,
            "align_content": null,
            "visibility": null,
            "align_self": null,
            "height": null,
            "min_height": null,
            "padding": null,
            "grid_auto_rows": null,
            "grid_gap": null,
            "max_width": null,
            "order": null,
            "_view_module_version": "1.2.0",
            "grid_template_areas": null,
            "object_position": null,
            "object_fit": null,
            "grid_auto_columns": null,
            "margin": null,
            "display": null,
            "left": null
          }
        }
      }
    },
    "accelerator": "GPU"
  },
  "cells": [
    {
      "cell_type": "markdown",
      "metadata": {
        "id": "view-in-github",
        "colab_type": "text"
      },
      "source": [
        "<a href=\"https://colab.research.google.com/github/sliscak/e2n-translator/blob/main/english2narsese.ipynb\" target=\"_parent\"><img src=\"https://colab.research.google.com/assets/colab-badge.svg\" alt=\"Open In Colab\"/></a>"
      ]
    },
    {
      "cell_type": "markdown",
      "metadata": {
        "id": "Knmw2llO-PLA"
      },
      "source": [
        "INSTALL PREREQ"
      ]
    },
    {
      "cell_type": "code",
      "metadata": {
        "id": "fvjzc_RI-N7N"
      },
      "source": [
        "%%capture\n",
        "from google.colab import drive\n",
        "drive.mount('/content/drive')\n",
        "#!cp \"/content/drive/My Drive/research/datasets/dataset.jsonl\" \"/content\"\n",
        "!git clone https://github.com/huggingface/transformers.git\n",
        "!pip install ./transformers\n",
        "!pip install -U nlp\n",
        "!pip install pytorch-lightning\n",
        "!pip install tqdm\n",
        "\n",
        "!rm e2n-translator -rf\n",
        "!git clone https://github.com/sliscak/e2n-translator.git\n",
        "!python e2n-translator/dataset/build.py"
      ],
      "execution_count": 3,
      "outputs": []
    },
    {
      "cell_type": "markdown",
      "metadata": {
        "id": "SOhPFCN3-XNu"
      },
      "source": [
        "IMPORT PACKAGES"
      ]
    },
    {
      "cell_type": "code",
      "metadata": {
        "id": "Zy_Gz53V-Wre"
      },
      "source": [
        "from transformers import T5Tokenizer, T5Model, T5ForConditionalGeneration, Trainer, TrainingArguments, T5Config, AdamW #T5WithLMHeadModel\n",
        "import torch\n",
        "from torch.utils.data import Dataset, DataLoader\n",
        "import json\n",
        "import nlp\n",
        "from pytorch_lightning.core.lightning import LightningModule\n",
        "import pytorch_lightning as pl\n",
        "from os import path\n",
        "from tqdm import tqdm"
      ],
      "execution_count": 4,
      "outputs": []
    },
    {
      "cell_type": "code",
      "metadata": {
        "id": "w9gHxcTSFioc",
        "outputId": "f47b4302-cad4-41a7-aa97-b6b094d89f8b",
        "colab": {
          "base_uri": "https://localhost:8080/",
          "height": 67,
          "referenced_widgets": [
            "26959f400de14f32a59a8676e3de030c",
            "62437ac0f8af452eb5f058f2d7c6d6da",
            "9a343fd4a4db4cbe8d0fbdc38d207c7f",
            "edb6c6e8f29f439d866252037744bbf9",
            "e39888f8d811492495fab77f4410c0d2",
            "97c5981d37484bdf9472813b5b29ff45",
            "2947ec9ae4944a409412f9206af7804a",
            "c31387402989411f8f414e5e7c966fd9"
          ]
        }
      },
      "source": [
        "tokenizer = T5Tokenizer.from_pretrained('t5-base')\n",
        "tokenizer.add_tokens('<')\n",
        "PATH = \"/content/drive/My Drive/research/models/t5-py\"\n",
        "# model = T5ForConditionalGeneration.from_pretrained('t5-base')"
      ],
      "execution_count": 5,
      "outputs": [
        {
          "output_type": "display_data",
          "data": {
            "application/vnd.jupyter.widget-view+json": {
              "model_id": "26959f400de14f32a59a8676e3de030c",
              "version_minor": 0,
              "version_major": 2
            },
            "text/plain": [
              "HBox(children=(FloatProgress(value=0.0, description='Downloading', max=791656.0, style=ProgressStyle(descripti…"
            ]
          },
          "metadata": {
            "tags": []
          }
        },
        {
          "output_type": "stream",
          "text": [
            "\n"
          ],
          "name": "stdout"
        }
      ]
    },
    {
      "cell_type": "code",
      "metadata": {
        "id": "MPL_4FWPqWzq"
      },
      "source": [
        "# print(tokenizer)\n",
        "# from pprint import pprint\n",
        "# pprint(dir(tokenizer))\n",
        "# print(tokenizer.add_tokens()\n",
        "# tokenizer.add_tokens('<')"
      ],
      "execution_count": null,
      "outputs": []
    },
    {
      "cell_type": "code",
      "metadata": {
        "id": "emPSJruHvVsz"
      },
      "source": [
        "# print(tokenizer.special_tokens_map)\n",
        "# print(tokenizer.post_processor)"
      ],
      "execution_count": null,
      "outputs": []
    },
    {
      "cell_type": "code",
      "metadata": {
        "id": "JE7WPMD9_0ze",
        "outputId": "e0227886-b86b-430e-e690-c510530eafc0",
        "colab": {
          "base_uri": "https://localhost:8080/",
          "height": 108
        }
      },
      "source": [
        " class PythonDataset(Dataset):\n",
        "    \"\"\"Python dataset.\"\"\"\n",
        "    \"\"\"Either preprocess or process data on the fly\"\"\"\n",
        "\n",
        "    def __init__(self, file_path=\"/content/dataset.txt\"):\n",
        "      self.data = []\n",
        "      with open(file_path, 'r') as fd:\n",
        "        pair = []\n",
        "        for line in tqdm(fd.readlines(), desc='Dataset Loading'):\n",
        "          if len(line) > 3:\n",
        "              pair.append(line)\n",
        "              if len(pair) >= 2:\n",
        "                self.data.append(pair)\n",
        "                pair = [] \n",
        "        # else:\n",
        "        #   for line in tqdm(fd.readlines(), desc='Dataset Loading'):\n",
        "        #     # TODO: remove this part\n",
        "        #     if len(line) > 3:\n",
        "        #       self.data.append(line)\n",
        "\n",
        "    def process(self, pair):\n",
        "        with torch.no_grad():\n",
        "          text, narsese = pair\n",
        "          # narsese = narsese.replace('<', '(')\n",
        "          # narsese = narsese.replace('>', ')')\n",
        "          pattern = f'translate English to Narsese: \"{text}\"'\n",
        "\n",
        "          input_ids = tokenizer.encode(pattern, padding=True, truncation=True, return_tensors='pt')\n",
        "          labels = tokenizer.encode(narsese, padding=True, truncation=True, return_tensors='pt')\n",
        "          sample = {\n",
        "              \"input_ids\": input_ids,\n",
        "              \"labels\": labels,\n",
        "          }\n",
        "          return sample\n",
        "\n",
        "    def __len__(self):\n",
        "        return len(self.data)\n",
        "\n",
        "    def __getitem__(self, idx):\n",
        "        if torch.is_tensor(idx):\n",
        "            idx = idx.tolist()\n",
        "        # print(self.data[idx])\n",
        "        # processing on the fly\n",
        "        return self.process(self.data[idx])\n",
        "\n",
        "dataset = PythonDataset()\n",
        "dataset[0]"
      ],
      "execution_count": 6,
      "outputs": [
        {
          "output_type": "stream",
          "text": [
            "Dataset Loading: 100%|██████████| 124/124 [00:00<00:00, 99615.72it/s]\n"
          ],
          "name": "stderr"
        },
        {
          "output_type": "execute_result",
          "data": {
            "text/plain": [
              "{'input_ids': tensor([[13959,  1566,    12, 13346,  2260,    15,    10,    96,   667,   210,\n",
              "             40,    19,     3,     9,   686,    13,  2586,     5,    96,     1]]),\n",
              " 'labels': tensor([[32100,     3,  2381,    40,     3,    18, 13114,  2586,  3155,     5,\n",
              "              1]])}"
            ]
          },
          "metadata": {
            "tags": []
          },
          "execution_count": 6
        }
      ]
    },
    {
      "cell_type": "code",
      "metadata": {
        "id": "2vDJFSLGCtIl"
      },
      "source": [
        "class Pavian(LightningModule):\n",
        "  def __init__(self): # reset=False\n",
        "    super().__init__()\n",
        "    self.model = T5ForConditionalGeneration.from_pretrained('t5-base')\n",
        "    self.model.train()\n",
        "    # self.save_hyperparameters()\n",
        "\n",
        "  def forward(self, kwargs):\n",
        "    return self.model(**kwargs)\n",
        "\n",
        "  def configure_optimizers(self):\n",
        "        optimizer = AdamW(model.parameters(), lr=1e-4)\n",
        "        return optimizer\n",
        "\n",
        "  def training_step(self, batch, batch_idx):\n",
        "        for key in batch.keys():\n",
        "          batch[key] = batch[key][0]\n",
        "        outputs = self(batch)\n",
        "        loss = outputs[0]\n",
        "        tensorboard_logs = {'train_loss': loss}\n",
        "        return {'loss': loss, 'log': tensorboard_logs}\n",
        "\n",
        "\n",
        "  # def validation_step(self, batch, batch_idx):\n",
        "  #       x, y = batch\n",
        "  #       y_hat = self(x)\n",
        "  #       val_loss = F.cross_entropy(y_hat, y)\n",
        "  #       return val_loss\n",
        "model = Pavian()"
      ],
      "execution_count": 11,
      "outputs": []
    },
    {
      "cell_type": "code",
      "metadata": {
        "id": "d4_PnzUmPHXD",
        "outputId": "966c04d7-ea5d-4914-bac6-b811f7cbbf36",
        "colab": {
          "base_uri": "https://localhost:8080/",
          "height": 378,
          "referenced_widgets": [
            "558f0b41051144c3bf5058e79da45a59",
            "8b04d22b9faf4ac09b1c9d06fbd79fc7",
            "bfa8f5716f5a44cc8dbf2b56822bab3a",
            "23f544583b8943abae5aa2163dd1e1bf",
            "551c1922765942a2b5701e3e874b5256",
            "00d03d641e644619ac8cd556c58ee29b",
            "de1de06405e94d268e98983d4c23c203",
            "b2f79b8ea2174045ac5c57ff319a2786"
          ]
        }
      },
      "source": [
        "config = {\n",
        "    'gpus': 1, # uncomment to use GPU\n",
        "    'default_root_dir': '/content/drive/My Drive/research/checkpoints',\n",
        "    'checkpoint_callback': False,\n",
        "    'max_epochs': 20,\n",
        "    # 'precision':16,\n",
        "}\n",
        "\n",
        "\n",
        "\n",
        "train_loader = DataLoader(PythonDataset(), batch_size=1, shuffle=True)\n",
        "\n",
        "trainer = pl.Trainer(**config)\n",
        "trainer.fit(model, train_loader)"
      ],
      "execution_count": 12,
      "outputs": [
        {
          "output_type": "stream",
          "text": [
            "Dataset Loading: 100%|██████████| 124/124 [00:00<00:00, 117455.67it/s]\n",
            "GPU available: True, used: True\n",
            "TPU available: False, using: 0 TPU cores\n",
            "LOCAL_RANK: 0 - CUDA_VISIBLE_DEVICES: [0]\n",
            "\n",
            "  | Name  | Type                       | Params\n",
            "-----------------------------------------------------\n",
            "0 | model | T5ForConditionalGeneration | 222 M \n"
          ],
          "name": "stderr"
        },
        {
          "output_type": "display_data",
          "data": {
            "application/vnd.jupyter.widget-view+json": {
              "model_id": "558f0b41051144c3bf5058e79da45a59",
              "version_minor": 0,
              "version_major": 2
            },
            "text/plain": [
              "HBox(children=(FloatProgress(value=1.0, bar_style='info', description='Training', layout=Layout(flex='2'), max…"
            ]
          },
          "metadata": {
            "tags": []
          }
        },
        {
          "output_type": "stream",
          "text": [
            "/usr/local/lib/python3.6/dist-packages/pytorch_lightning/utilities/distributed.py:45: UserWarning: The {log:dict keyword} was deprecated in 0.9.1 and will be removed in 1.0.0\n",
            "Please use self.log(...) inside the lightningModule instead.\n",
            "\n",
            "# log on a step or aggregate epoch metric to the logger and/or progress bar\n",
            "# (inside LightningModule)\n",
            "self.log('train_loss', loss, on_step=True, on_epoch=True, prog_bar=True)\n",
            "  warnings.warn(*args, **kwargs)\n"
          ],
          "name": "stderr"
        },
        {
          "output_type": "stream",
          "text": [
            "\n"
          ],
          "name": "stdout"
        },
        {
          "output_type": "execute_result",
          "data": {
            "text/plain": [
              "1"
            ]
          },
          "metadata": {
            "tags": []
          },
          "execution_count": 12
        }
      ]
    },
    {
      "cell_type": "code",
      "metadata": {
        "id": "2MqRmf3WHFbu"
      },
      "source": [
        "# PATH = \"/content/drive/My Drive/research/models/t5-py\"\n",
        "# torch.save(model.state_dict(), PATH)"
      ],
      "execution_count": null,
      "outputs": []
    },
    {
      "cell_type": "code",
      "metadata": {
        "id": "G3WvE3iZgG2v",
        "outputId": "fc0a27ef-2567-4b70-d920-a566a9289b44",
        "colab": {
          "base_uri": "https://localhost:8080/",
          "height": 144
        }
      },
      "source": [
        "with torch.no_grad():\n",
        "    narsese = '<mexico --> country>?'\n",
        "    pattern = f'translate English to Narsese: \"Is Mexico a type of country?\"'\n",
        "    input_ids = tokenizer.encode(pattern, return_tensors='pt')\n",
        "    outputs = model.model.generate(input_ids)\n",
        "    dec = tokenizer.decode(outputs[0])\n",
        "    print(f'Input:\\n\\t{pattern}\\nOutput:\\n\\t{dec}\\n')\n",
        "    print(f'Ground Truth:\\n\\t{narsese}')\n"
      ],
      "execution_count": 27,
      "outputs": [
        {
          "output_type": "stream",
          "text": [
            "Input:\n",
            "\ttranslate English to Narsese: \"Is Mexico a type of country?\"\n",
            "Output:\n",
            "\t < mexico --> country>?\n",
            "\n",
            "Ground Truth:\n",
            "\t<mexico --> country>?\n"
          ],
          "name": "stdout"
        }
      ]
    },
    {
      "cell_type": "code",
      "metadata": {
        "id": "QXrQNgnPMqP_"
      },
      "source": [
        ""
      ],
      "execution_count": null,
      "outputs": []
    }
  ]
}